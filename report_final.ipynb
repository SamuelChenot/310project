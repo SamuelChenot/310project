{
 "cells": [
  {
   "cell_type": "markdown",
   "metadata": {},
   "source": [
    "## About\n",
    "This app is intended to display solar flare data.\n",
    "the data you can currently see is class, size, distribution, activity, evolution, previous 24 hours, historical compexity, became complex, area, area of largest spot, number of C-class, M-class, and X-class flares.\n",
    "Within the solar flare information tab we have the direct list of data available for the flare.\",\n",
    "The app also contains pie charts of each value, with a data statistics page as well.\"\n",
    "\n",
    "## Teamwork breakdown\n",
    "This was a group effort from Austin Agronick and Samuel Chenot. For the programming breakdown Austin worked on the\n",
    "Solar Flare data and Data Statistics page. Samuel worked on the Graphs and Flare Class Predictor page. We both designed\n",
    "the start page and analyzed the data in this notebook below. Debugging and understanding the Python tkinter library which\n",
    "was used to create the GUI was a group effort."
   ]
  },
  {
   "cell_type": "markdown",
   "metadata": {},
   "source": [
    "## GUI"
   ]
  },
  {
   "cell_type": "markdown",
   "metadata": {},
   "source": [
    "For pictures of the GUI please check the included PNG files."
   ]
  },
  {
   "cell_type": "markdown",
   "metadata": {},
   "source": [
    "The app is simple to run, simply type python main.py into the console and tada. Below is some data analysis we used to\n",
    "design the Flare Class Predictor page of our app."
   ]
  },
  {
   "cell_type": "markdown",
   "metadata": {},
   "source": [
    "## Predictor"
   ]
  },
  {
   "cell_type": "code",
   "execution_count": 19,
   "metadata": {},
   "outputs": [],
   "source": [
    "import pandas as pd\n",
    "from treeviz import tree_print\n",
    "from sklearn import tree\n",
    "from sklearn.metrics import accuracy_score\n",
    "# sklearn provides manipulation of training sets...here we do train/test split\n",
    "from sklearn.model_selection import train_test_split\n",
    "from sklearn.model_selection import cross_val_score\n",
    "from sklearn.model_selection import GridSearchCV\n",
    "from sklearn.metrics import confusion_matrix\n",
    "from bootstrap import bootstrap"
   ]
  },
  {
   "cell_type": "code",
   "execution_count": 20,
   "metadata": {},
   "outputs": [],
   "source": [
    "df = pd.read_csv(\"flare2.csv\")\n",
    "\n",
    "df = df.replace(\"A\", 0)\n",
    "df = df.replace(\"B\", 1)\n",
    "df = df.replace(\"C\", 2)\n",
    "df = df.replace(\"D\", 3)\n",
    "df = df.replace(\"E\", 4)\n",
    "df = df.replace(\"F\", 5)\n",
    "df = df.replace(\"H\", 6)\n",
    "\n",
    "df = df.replace(\"R\", 1)\n",
    "df = df.replace(\"S\", 2)\n",
    "df = df.replace(\"H\", 3)\n",
    "df = df.replace(\"K\", 4)\n",
    "\n",
    "\n",
    "df = df.replace(\"X\", 1)\n",
    "df = df.replace(\"O\", 2)\n",
    "df = df.replace(\"I\", 3)\n",
    "df = df.replace(\"C\", 4)\n",
    "\n",
    "X = df.drop(['class'], axis=1)\n",
    "y = df['class']"
   ]
  },
  {
   "cell_type": "code",
   "execution_count": 21,
   "metadata": {},
   "outputs": [
    {
     "name": "stdout",
     "output_type": "stream",
     "text": [
      "Grid Search: best parameters: {'criterion': 'gini', 'max_depth': 5}\n",
      "if size =< 1.5: \n",
      "  |then 6\n",
      "  |else if class =< 0.5: \n",
      "  |  |then if size =< 2.5: \n",
      "  |  |  |then 3\n",
      "  |  |  |else 3\n",
      "  |  |else if class =< 1.5: \n",
      "  |  |  |then 1\n",
      "  |  |  |else 2\n",
      "<------->\n",
      "Tree Depth:  3\n",
      "Accuracy: 0.6707317073170732\n",
      "Confusion Matrix:\n",
      "     1  0\n",
      "1  138  0\n",
      "0    0  0\n",
      "Confidence interval best decision tree: (0.5934579439252337, 0.7336448598130841)\n"
     ]
    }
   ],
   "source": [
    "model = tree.DecisionTreeClassifier(criterion='entropy', max_depth=3)\n",
    "param_grid = {'max_depth': list(range(1,21)), 'criterion': ['entropy','gini'] }\n",
    "grid = GridSearchCV(model, param_grid, cv=5)\n",
    "grid.fit(X, y)\n",
    "X_train, X_test, y_train, y_test = train_test_split(X, y, train_size=0.8, test_size=0.2)\n",
    "model.fit(X_train, y_train)\n",
    "print(\"Grid Search: best parameters: {}\".format(grid.best_params_))\n",
    "best_model = grid.best_estimator_\n",
    "predict_y = best_model.predict(X)\n",
    "\n",
    "tree_print(model, df)\n",
    "\n",
    "print(\"Accuracy: {}\".format(accuracy_score(y, predict_y)))\n",
    "\n",
    "labels = [1, 0]\n",
    "cm = confusion_matrix(y, predict_y, labels=labels)\n",
    "cm_df = pd.DataFrame(cm, index=labels, columns=labels)\n",
    "print(\"Confusion Matrix:\\n{}\".format(cm_df))\n",
    "\n",
    "print(\"Confidence interval best decision tree: {}\".format(bootstrap(best_model,df,'class')))"
   ]
  },
  {
   "cell_type": "code",
   "execution_count": null,
   "metadata": {},
   "outputs": [],
   "source": []
  },
  {
   "cell_type": "code",
   "execution_count": null,
   "metadata": {},
   "outputs": [],
   "source": []
  }
 ],
 "metadata": {
  "kernelspec": {
   "display_name": "Python 3",
   "language": "python",
   "name": "python3"
  },
  "language_info": {
   "codemirror_mode": {
    "name": "ipython",
    "version": 3
   },
   "file_extension": ".py",
   "mimetype": "text/x-python",
   "name": "python",
   "nbconvert_exporter": "python",
   "pygments_lexer": "ipython3",
   "version": "3.7.6"
  }
 },
 "nbformat": 4,
 "nbformat_minor": 4
}
